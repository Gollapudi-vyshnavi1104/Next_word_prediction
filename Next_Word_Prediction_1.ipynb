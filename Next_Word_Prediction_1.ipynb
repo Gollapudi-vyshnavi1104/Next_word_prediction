{
  "cells": [
    {
      "cell_type": "markdown",
      "metadata": {
        "id": "6XGTlBnzM2ze"
      },
      "source": [
        "# Next Word Prediction:"
      ]
    },
    {
      "cell_type": "markdown",
      "source": [
        "https://towardsdatascience.com/next-word-prediction-with-nlp-and-deep-learning-48b9fe0a17bf- refernce"
      ],
      "metadata": {
        "id": "ePme_ggjRzQb"
      }
    },
    {
      "cell_type": "markdown",
      "metadata": {
        "id": "AxXQXL5UM2zj"
      },
      "source": [
        "### Importing The Required Libraries:"
      ]
    },
    {
      "cell_type": "code",
      "execution_count": null,
      "metadata": {
        "id": "043Ul-dzM2zj"
      },
      "outputs": [],
      "source": [
        "import tensorflow as tf\n",
        "from tensorflow.keras.preprocessing.text import Tokenizer\n",
        "from tensorflow.keras.layers import Embedding, LSTM, Dense\n",
        "from tensorflow.keras.models import Sequential\n",
        "from tensorflow.keras.utils import to_categorical\n",
        "from tensorflow.keras.optimizers import Adam\n",
        "import pickle\n",
        "import numpy as np\n",
        "import os"
      ]
    },
    {
      "cell_type": "markdown",
      "source": [
        "    Dataset: http://www.gutenberg.org/cache/epub/5200/pg5200.txt\n",
        "    Remove all the unnecessary data and label it as Metamorphosis-clean.\n",
        "    The starting and ending lines should be from the -\n",
        "    One morning, when Gregor Samsa woke &......first to get up and stretch out her young body"
      ],
      "metadata": {
        "id": "0eEkYk-eR8QS"
      }
    },
    {
      "cell_type": "code",
      "execution_count": null,
      "metadata": {
        "colab": {
          "base_uri": "https://localhost:8080/"
        },
        "id": "pfuZRQKVM2zk",
        "outputId": "2753cc68-bd9c-4b1f-ae43-eea3c5e1e74b"
      },
      "outputs": [
        {
          "output_type": "stream",
          "name": "stdout",
          "text": [
            "The First Line:  ﻿One morning, when Gregor Samsa woke from troubled dreams, he found\n",
            "\n",
            "The Last Line:  first to get up and stretch out her young body.\n"
          ]
        }
      ],
      "source": [
        "file = open(\"metamorphosis_clean.txt\", \"r\", encoding = \"utf8\")\n",
        "lines = []\n",
        "\n",
        "for i in file:\n",
        "    lines.append(i)\n",
        "    \n",
        "print(\"The First Line: \", lines[0])\n",
        "print(\"The Last Line: \", lines[-1])"
      ]
    },
    {
      "cell_type": "markdown",
      "metadata": {
        "id": "Mb38eg7uM2zm"
      },
      "source": [
        "### Cleaning the data:"
      ]
    },
    {
      "cell_type": "code",
      "execution_count": null,
      "metadata": {
        "colab": {
          "base_uri": "https://localhost:8080/",
          "height": 53
        },
        "id": "Xt2aEpXrM2zm",
        "outputId": "c477adad-3e2c-4622-a3f4-e443f9b86798"
      },
      "outputs": [
        {
          "output_type": "execute_result",
          "data": {
            "text/plain": [
              "'One morning, when Gregor Samsa woke from troubled dreams, he found himself transformed in his bed into a horrible vermin.  He lay on his armour-like back, and if he lifted his head a little he could see his brown belly, slightly domed and divided by arches into stiff sections.  The bedding was hardly able to cover it and seemed ready to slide off any moment.'"
            ],
            "application/vnd.google.colaboratory.intrinsic+json": {
              "type": "string"
            }
          },
          "metadata": {},
          "execution_count": 3
        }
      ],
      "source": [
        "data = \"\"\n",
        "\n",
        "for i in lines:\n",
        "    data = ' '. join(lines)\n",
        "    \n",
        "data = data.replace('\\n', '').replace('\\r', '').replace('\\ufeff', '')\n",
        "data[:360]"
      ]
    },
    {
      "cell_type": "code",
      "execution_count": null,
      "metadata": {
        "colab": {
          "base_uri": "https://localhost:8080/",
          "height": 71
        },
        "id": "t2LGln1iM2zm",
        "outputId": "4357ca8d-95c1-46fb-cf78-37a8613e9710"
      },
      "outputs": [
        {
          "output_type": "execute_result",
          "data": {
            "text/plain": [
              "'One morning  when Gregor Samsa woke from troubled dreams  he found himself transformed in his bed into a horrible vermin   He lay on his armour like back  and if he lifted his head a little he could see his brown belly  slightly domed and divided by arches into stiff sections   The bedding was hardly able to cover it and seemed ready to slide off any moment   His many legs  pitifully thin compared with the size of the rest of him  waved about helplessly as he looked    What s happened to me   he'"
            ],
            "application/vnd.google.colaboratory.intrinsic+json": {
              "type": "string"
            }
          },
          "metadata": {},
          "execution_count": 4
        }
      ],
      "source": [
        "\n",
        "import string\n",
        "\n",
        "translator = str.maketrans(string.punctuation, ' '*len(string.punctuation)) #map punctuation to space\n",
        "new_data = data.translate(translator)\n",
        "\n",
        "new_data[:500]"
      ]
    },
    {
      "cell_type": "code",
      "execution_count": null,
      "metadata": {
        "colab": {
          "base_uri": "https://localhost:8080/",
          "height": 71
        },
        "id": "h-w2Y502M2zn",
        "outputId": "a71f1546-46ea-41c8-86f9-fac219b890cf"
      },
      "outputs": [
        {
          "output_type": "execute_result",
          "data": {
            "text/plain": [
              "'One morning, when Gregor Samsa woke from troubled dreams, he found himself transformed in his bed into a horrible vermin. He lay on armour-like back, and if lifted head little could see brown belly, slightly domed divided by arches stiff sections. The bedding was hardly able to cover it seemed ready slide off any moment. His many legs, pitifully thin compared with the size of rest him, waved about helplessly as looked. \"What\\'s happened me?\" thought. It wasn\\'t dream. room, proper human room altho'"
            ],
            "application/vnd.google.colaboratory.intrinsic+json": {
              "type": "string"
            }
          },
          "metadata": {},
          "execution_count": 5
        }
      ],
      "source": [
        "z = []\n",
        "\n",
        "for i in data.split():\n",
        "    if i not in z:\n",
        "        z.append(i)\n",
        "        \n",
        "data = ' '.join(z)\n",
        "data[:500]"
      ]
    },
    {
      "cell_type": "markdown",
      "metadata": {
        "id": "I5IYEUznM2zo"
      },
      "source": [
        "### Tokenization:"
      ]
    },
    {
      "cell_type": "code",
      "execution_count": null,
      "metadata": {
        "colab": {
          "base_uri": "https://localhost:8080/"
        },
        "id": "U8cb-EikM2zo",
        "outputId": "f88dcd69-668d-4332-fc47-cd97e64a0bf0"
      },
      "outputs": [
        {
          "output_type": "execute_result",
          "data": {
            "text/plain": [
              "[17, 53, 293, 2, 18, 729, 135, 730, 294, 8]"
            ]
          },
          "metadata": {},
          "execution_count": 6
        }
      ],
      "source": [
        "tokenizer = Tokenizer()\n",
        "tokenizer.fit_on_texts([data])\n",
        "\n",
        "# saving the tokenizer for predict function.\n",
        "pickle.dump(tokenizer, open('tokenizer1.pkl', 'wb'))\n",
        "\n",
        "sequence_data = tokenizer.texts_to_sequences([data])[0]\n",
        "sequence_data[:10]"
      ]
    },
    {
      "cell_type": "code",
      "execution_count": null,
      "metadata": {
        "colab": {
          "base_uri": "https://localhost:8080/"
        },
        "id": "pxQZGqY0M2zp",
        "outputId": "2b4d57d1-2f52-4700-8e40-627fb2bd09ba"
      },
      "outputs": [
        {
          "output_type": "stream",
          "name": "stdout",
          "text": [
            "2617\n"
          ]
        }
      ],
      "source": [
        "vocab_size = len(tokenizer.word_index) + 1\n",
        "print(vocab_size)"
      ]
    },
    {
      "cell_type": "code",
      "execution_count": null,
      "metadata": {
        "colab": {
          "base_uri": "https://localhost:8080/"
        },
        "id": "tC8YogM_M2zp",
        "outputId": "de32ddef-29da-462d-8913-b26a9e839ba0"
      },
      "outputs": [
        {
          "output_type": "stream",
          "name": "stdout",
          "text": [
            "The Length of sequences are:  3889\n"
          ]
        },
        {
          "output_type": "execute_result",
          "data": {
            "text/plain": [
              "array([[ 17,  53],\n",
              "       [ 53, 293],\n",
              "       [293,   2],\n",
              "       [  2,  18],\n",
              "       [ 18, 729],\n",
              "       [729, 135],\n",
              "       [135, 730],\n",
              "       [730, 294],\n",
              "       [294,   8],\n",
              "       [  8, 731]])"
            ]
          },
          "metadata": {},
          "execution_count": 8
        }
      ],
      "source": [
        "sequences = []\n",
        "\n",
        "for i in range(1, len(sequence_data)):\n",
        "    words = sequence_data[i-1:i+1]\n",
        "    sequences.append(words)\n",
        "    \n",
        "print(\"The Length of sequences are: \", len(sequences))\n",
        "sequences = np.array(sequences)\n",
        "sequences[:10]"
      ]
    },
    {
      "cell_type": "code",
      "execution_count": null,
      "metadata": {
        "id": "MoX-qbFvM2zp"
      },
      "outputs": [],
      "source": [
        "X = []\n",
        "y = []\n",
        "\n",
        "for i in sequences:\n",
        "    X.append(i[0])\n",
        "    y.append(i[1])\n",
        "    \n",
        "X = np.array(X)\n",
        "y = np.array(y)"
      ]
    },
    {
      "cell_type": "code",
      "execution_count": null,
      "metadata": {
        "colab": {
          "base_uri": "https://localhost:8080/"
        },
        "id": "esn9N1QoM2zq",
        "outputId": "2c076cf9-8831-4146-97a2-74e35773d8b8"
      },
      "outputs": [
        {
          "output_type": "stream",
          "name": "stdout",
          "text": [
            "The Data is:  [ 17  53 293   2  18]\n",
            "The responses are:  [ 53 293   2  18 729]\n"
          ]
        }
      ],
      "source": [
        "print(\"The Data is: \", X[:5])\n",
        "print(\"The responses are: \", y[:5])"
      ]
    },
    {
      "cell_type": "code",
      "execution_count": null,
      "metadata": {
        "colab": {
          "base_uri": "https://localhost:8080/"
        },
        "id": "IX23lpvSM2zq",
        "outputId": "9a81b144-14a5-45a8-8990-b714da969467"
      },
      "outputs": [
        {
          "output_type": "execute_result",
          "data": {
            "text/plain": [
              "array([[0., 0., 0., ..., 0., 0., 0.],\n",
              "       [0., 0., 0., ..., 0., 0., 0.],\n",
              "       [0., 0., 1., ..., 0., 0., 0.],\n",
              "       [0., 0., 0., ..., 0., 0., 0.],\n",
              "       [0., 0., 0., ..., 0., 0., 0.]], dtype=float32)"
            ]
          },
          "metadata": {},
          "execution_count": 11
        }
      ],
      "source": [
        "y = to_categorical(y, num_classes=vocab_size)\n",
        "y[:5]"
      ]
    },
    {
      "cell_type": "markdown",
      "metadata": {
        "id": "IzFk8qvwM2zq"
      },
      "source": [
        "### Creating the Model:"
      ]
    },
    {
      "cell_type": "code",
      "execution_count": null,
      "metadata": {
        "id": "INma80j3M2zr"
      },
      "outputs": [],
      "source": [
        "model = Sequential()\n",
        "model.add(Embedding(vocab_size, 10, input_length=1))\n",
        "model.add(LSTM(1000, return_sequences=True))\n",
        "model.add(LSTM(1000))\n",
        "model.add(Dense(1000, activation=\"relu\"))\n",
        "model.add(Dense(vocab_size, activation=\"softmax\"))"
      ]
    },
    {
      "cell_type": "code",
      "execution_count": null,
      "metadata": {
        "colab": {
          "base_uri": "https://localhost:8080/"
        },
        "id": "FFIuHNg4M2zr",
        "outputId": "355df781-1883-4132-b6ac-c4cfe2846f92"
      },
      "outputs": [
        {
          "output_type": "stream",
          "name": "stdout",
          "text": [
            "Model: \"sequential\"\n",
            "_________________________________________________________________\n",
            " Layer (type)                Output Shape              Param #   \n",
            "=================================================================\n",
            " embedding (Embedding)       (None, 1, 10)             26170     \n",
            "                                                                 \n",
            " lstm (LSTM)                 (None, 1, 1000)           4044000   \n",
            "                                                                 \n",
            " lstm_1 (LSTM)               (None, 1000)              8004000   \n",
            "                                                                 \n",
            " dense (Dense)               (None, 1000)              1001000   \n",
            "                                                                 \n",
            " dense_1 (Dense)             (None, 2617)              2619617   \n",
            "                                                                 \n",
            "=================================================================\n",
            "Total params: 15,694,787\n",
            "Trainable params: 15,694,787\n",
            "Non-trainable params: 0\n",
            "_________________________________________________________________\n"
          ]
        }
      ],
      "source": [
        "model.summary()"
      ]
    },
    {
      "cell_type": "markdown",
      "metadata": {
        "id": "gO7Qdf-XM2zr"
      },
      "source": [
        "### Plot The Model:"
      ]
    },
    {
      "cell_type": "code",
      "execution_count": null,
      "metadata": {
        "colab": {
          "base_uri": "https://localhost:8080/",
          "height": 564
        },
        "id": "GWuuQPdgM2zr",
        "outputId": "7886fdcf-ea69-4a58-f4ad-32a420f7be8a"
      },
      "outputs": [
        {
          "output_type": "execute_result",
          "data": {
            "image/png": "[encoded data removed]",
            "text/plain": [
              "<IPython.core.display.Image object>"
            ]
          },
          "metadata": {},
          "execution_count": 14
        }
      ],
      "source": [
        "from tensorflow import keras\n",
        "from keras.utils.vis_utils import plot_model\n",
        "\n",
        "keras.utils.plot_model(model, to_file='model.png', show_layer_names=True)"
      ]
    },
    {
      "cell_type": "markdown",
      "metadata": {
        "id": "44VZQ3lIM2zr"
      },
      "source": [
        "### Callbacks:"
      ]
    },
    {
      "cell_type": "code",
      "execution_count": null,
      "metadata": {
        "id": "XbV8we2FM2zs"
      },
      "outputs": [],
      "source": [
        "from tensorflow.keras.callbacks import ModelCheckpoint\n",
        "from tensorflow.keras.callbacks import ReduceLROnPlateau\n",
        "from tensorflow.keras.callbacks import TensorBoard\n",
        "\n",
        "checkpoint = ModelCheckpoint(\"nextword1.h5\", monitor='loss', verbose=1,\n",
        "    save_best_only=True, mode='auto')\n",
        "\n",
        "reduce = ReduceLROnPlateau(monitor='loss', factor=0.2, patience=3, min_lr=0.0001, verbose = 1)\n",
        "\n",
        "logdir='logsnextword1'\n",
        "tensorboard_Visualization = TensorBoard(log_dir=logdir)"
      ]
    },
    {
      "cell_type": "markdown",
      "metadata": {
        "id": "8MY_90JfM2zs"
      },
      "source": [
        "### Compile The Model:"
      ]
    },
    {
      "cell_type": "code",
      "execution_count": null,
      "metadata": {
        "id": "08Dy9ZwEM2zs",
        "colab": {
          "base_uri": "https://localhost:8080/"
        },
        "outputId": "813ebb98-d012-4550-b609-207a0476658d"
      },
      "outputs": [
        {
          "output_type": "stream",
          "name": "stderr",
          "text": [
            "/usr/local/lib/python3.7/dist-packages/keras/optimizer_v2/adam.py:105: UserWarning: The `lr` argument is deprecated, use `learning_rate` instead.\n",
            "  super(Adam, self).__init__(name, **kwargs)\n"
          ]
        }
      ],
      "source": [
        "model.compile(loss=\"categorical_crossentropy\", optimizer=Adam(lr=0.001))"
      ]
    },
    {
      "cell_type": "markdown",
      "metadata": {
        "id": "mOo2MRdYM2zs"
      },
      "source": [
        "### Fit The Model:"
      ]
    },
    {
      "cell_type": "code",
      "execution_count": null,
      "metadata": {
        "colab": {
          "base_uri": "https://localhost:8080/"
        },
        "id": "MgrMbUqkM2zs",
        "outputId": "c3a8e86c-6803-40c7-817f-590b667e5689"
      },
      "outputs": [
        {
          "output_type": "stream",
          "name": "stdout",
          "text": [
            "Epoch 1/100\n",
            "61/61 [==============================] - ETA: 0s - loss: 7.8754\n",
            "Epoch 1: loss improved from inf to 7.87538, saving model to nextword1.h5\n",
            "61/61 [==============================] - 18s 218ms/step - loss: 7.8754 - lr: 0.0010\n",
            "Epoch 2/100\n",
            "61/61 [==============================] - ETA: 0s - loss: 7.8649\n",
            "Epoch 2: loss improved from 7.87538 to 7.86490, saving model to nextword1.h5\n",
            "61/61 [==============================] - 13s 218ms/step - loss: 7.8649 - lr: 0.0010\n",
            "Epoch 3/100\n",
            "61/61 [==============================] - ETA: 0s - loss: 7.8305\n",
            "Epoch 3: loss improved from 7.86490 to 7.83047, saving model to nextword1.h5\n",
            "61/61 [==============================] - 13s 220ms/step - loss: 7.8305 - lr: 0.0010\n",
            "Epoch 4/100\n",
            "61/61 [==============================] - ETA: 0s - loss: 7.6724\n",
            "Epoch 4: loss improved from 7.83047 to 7.67240, saving model to nextword1.h5\n",
            "61/61 [==============================] - 13s 217ms/step - loss: 7.6724 - lr: 0.0010\n",
            "Epoch 5/100\n",
            "61/61 [==============================] - ETA: 0s - loss: 7.4594\n",
            "Epoch 5: loss improved from 7.67240 to 7.45943, saving model to nextword1.h5\n",
            "61/61 [==============================] - 13s 216ms/step - loss: 7.4594 - lr: 0.0010\n",
            "Epoch 6/100\n",
            "61/61 [==============================] - ETA: 0s - loss: 7.2701\n",
            "Epoch 6: loss improved from 7.45943 to 7.27013, saving model to nextword1.h5\n",
            "61/61 [==============================] - 13s 216ms/step - loss: 7.2701 - lr: 0.0010\n",
            "Epoch 7/100\n",
            "61/61 [==============================] - ETA: 0s - loss: 7.1411\n",
            "Epoch 7: loss improved from 7.27013 to 7.14112, saving model to nextword1.h5\n",
            "61/61 [==============================] - 13s 218ms/step - loss: 7.1411 - lr: 0.0010\n",
            "Epoch 8/100\n",
            "61/61 [==============================] - ETA: 0s - loss: 7.0454\n",
            "Epoch 8: loss improved from 7.14112 to 7.04538, saving model to nextword1.h5\n",
            "61/61 [==============================] - 13s 217ms/step - loss: 7.0454 - lr: 0.0010\n",
            "Epoch 9/100\n",
            "61/61 [==============================] - ETA: 0s - loss: 6.9184\n",
            "Epoch 9: loss improved from 7.04538 to 6.91844, saving model to nextword1.h5\n",
            "61/61 [==============================] - 13s 217ms/step - loss: 6.9184 - lr: 0.0010\n",
            "Epoch 10/100\n",
            "61/61 [==============================] - ETA: 0s - loss: 6.6872\n",
            "Epoch 10: loss improved from 6.91844 to 6.68721, saving model to nextword1.h5\n",
            "61/61 [==============================] - 13s 216ms/step - loss: 6.6872 - lr: 0.0010\n",
            "Epoch 11/100\n",
            "61/61 [==============================] - ETA: 0s - loss: 6.4067\n",
            "Epoch 11: loss improved from 6.68721 to 6.40672, saving model to nextword1.h5\n",
            "61/61 [==============================] - 13s 215ms/step - loss: 6.4067 - lr: 0.0010\n",
            "Epoch 12/100\n",
            "61/61 [==============================] - ETA: 0s - loss: 6.1613\n",
            "Epoch 12: loss improved from 6.40672 to 6.16135, saving model to nextword1.h5\n",
            "61/61 [==============================] - 13s 217ms/step - loss: 6.1613 - lr: 0.0010\n",
            "Epoch 13/100\n",
            "61/61 [==============================] - ETA: 0s - loss: 5.9331\n",
            "Epoch 13: loss improved from 6.16135 to 5.93310, saving model to nextword1.h5\n",
            "61/61 [==============================] - 13s 213ms/step - loss: 5.9331 - lr: 0.0010\n",
            "Epoch 14/100\n",
            "61/61 [==============================] - ETA: 0s - loss: 5.7325\n",
            "Epoch 14: loss improved from 5.93310 to 5.73252, saving model to nextword1.h5\n",
            "61/61 [==============================] - 13s 216ms/step - loss: 5.7325 - lr: 0.0010\n",
            "Epoch 15/100\n",
            "61/61 [==============================] - ETA: 0s - loss: 5.5434\n",
            "Epoch 15: loss improved from 5.73252 to 5.54336, saving model to nextword1.h5\n",
            "61/61 [==============================] - 13s 216ms/step - loss: 5.5434 - lr: 0.0010\n",
            "Epoch 16/100\n",
            "61/61 [==============================] - ETA: 0s - loss: 5.3786\n",
            "Epoch 16: loss improved from 5.54336 to 5.37862, saving model to nextword1.h5\n",
            "61/61 [==============================] - 13s 216ms/step - loss: 5.3786 - lr: 0.0010\n",
            "Epoch 17/100\n",
            "61/61 [==============================] - ETA: 0s - loss: 5.2118\n",
            "Epoch 17: loss improved from 5.37862 to 5.21180, saving model to nextword1.h5\n",
            "61/61 [==============================] - 13s 214ms/step - loss: 5.2118 - lr: 0.0010\n",
            "Epoch 18/100\n",
            "61/61 [==============================] - ETA: 0s - loss: 5.0631\n",
            "Epoch 18: loss improved from 5.21180 to 5.06307, saving model to nextword1.h5\n",
            "61/61 [==============================] - 13s 216ms/step - loss: 5.0631 - lr: 0.0010\n",
            "Epoch 19/100\n",
            "61/61 [==============================] - ETA: 0s - loss: 4.9377\n",
            "Epoch 19: loss improved from 5.06307 to 4.93774, saving model to nextword1.h5\n",
            "61/61 [==============================] - 13s 216ms/step - loss: 4.9377 - lr: 0.0010\n",
            "Epoch 20/100\n",
            "61/61 [==============================] - ETA: 0s - loss: 4.8065\n",
            "Epoch 20: loss improved from 4.93774 to 4.80647, saving model to nextword1.h5\n",
            "61/61 [==============================] - 13s 216ms/step - loss: 4.8065 - lr: 0.0010\n",
            "Epoch 21/100\n",
            "61/61 [==============================] - ETA: 0s - loss: 4.7003\n",
            "Epoch 21: loss improved from 4.80647 to 4.70027, saving model to nextword1.h5\n",
            "61/61 [==============================] - 13s 215ms/step - loss: 4.7003 - lr: 0.0010\n",
            "Epoch 22/100\n",
            "61/61 [==============================] - ETA: 0s - loss: 4.5911\n",
            "Epoch 22: loss improved from 4.70027 to 4.59114, saving model to nextword1.h5\n",
            "61/61 [==============================] - 13s 217ms/step - loss: 4.5911 - lr: 0.0010\n",
            "Epoch 23/100\n",
            "61/61 [==============================] - ETA: 0s - loss: 4.4917\n",
            "Epoch 23: loss improved from 4.59114 to 4.49169, saving model to nextword1.h5\n",
            "61/61 [==============================] - 13s 216ms/step - loss: 4.4917 - lr: 0.0010\n",
            "Epoch 24/100\n",
            "61/61 [==============================] - ETA: 0s - loss: 4.3984\n",
            "Epoch 24: loss improved from 4.49169 to 4.39840, saving model to nextword1.h5\n",
            "61/61 [==============================] - 13s 218ms/step - loss: 4.3984 - lr: 0.0010\n",
            "Epoch 25/100\n",
            "61/61 [==============================] - ETA: 0s - loss: 4.3094\n",
            "Epoch 25: loss improved from 4.39840 to 4.30935, saving model to nextword1.h5\n",
            "61/61 [==============================] - 13s 216ms/step - loss: 4.3094 - lr: 0.0010\n",
            "Epoch 26/100\n",
            "61/61 [==============================] - ETA: 0s - loss: 4.2337\n",
            "Epoch 26: loss improved from 4.30935 to 4.23367, saving model to nextword1.h5\n",
            "61/61 [==============================] - 13s 215ms/step - loss: 4.2337 - lr: 0.0010\n",
            "Epoch 27/100\n",
            "61/61 [==============================] - ETA: 0s - loss: 4.1379\n",
            "Epoch 27: loss improved from 4.23367 to 4.13794, saving model to nextword1.h5\n",
            "61/61 [==============================] - 13s 215ms/step - loss: 4.1379 - lr: 0.0010\n",
            "Epoch 28/100\n",
            "61/61 [==============================] - ETA: 0s - loss: 4.0642\n",
            "Epoch 28: loss improved from 4.13794 to 4.06424, saving model to nextword1.h5\n",
            "61/61 [==============================] - 13s 215ms/step - loss: 4.0642 - lr: 0.0010\n",
            "Epoch 29/100\n",
            "61/61 [==============================] - ETA: 0s - loss: 3.9871\n",
            "Epoch 29: loss improved from 4.06424 to 3.98709, saving model to nextword1.h5\n",
            "61/61 [==============================] - 13s 214ms/step - loss: 3.9871 - lr: 0.0010\n",
            "Epoch 30/100\n",
            "61/61 [==============================] - ETA: 0s - loss: 3.8960\n",
            "Epoch 30: loss improved from 3.98709 to 3.89600, saving model to nextword1.h5\n",
            "61/61 [==============================] - 13s 216ms/step - loss: 3.8960 - lr: 0.0010\n",
            "Epoch 31/100\n",
            "61/61 [==============================] - ETA: 0s - loss: 3.7734\n",
            "Epoch 31: loss improved from 3.89600 to 3.77345, saving model to nextword1.h5\n",
            "61/61 [==============================] - 13s 217ms/step - loss: 3.7734 - lr: 0.0010\n",
            "Epoch 32/100\n",
            "61/61 [==============================] - ETA: 0s - loss: 3.6701\n",
            "Epoch 32: loss improved from 3.77345 to 3.67011, saving model to nextword1.h5\n",
            "61/61 [==============================] - 13s 218ms/step - loss: 3.6701 - lr: 0.0010\n",
            "Epoch 33/100\n",
            "61/61 [==============================] - ETA: 0s - loss: 3.5688\n",
            "Epoch 33: loss improved from 3.67011 to 3.56876, saving model to nextword1.h5\n",
            "61/61 [==============================] - 13s 215ms/step - loss: 3.5688 - lr: 0.0010\n",
            "Epoch 34/100\n",
            "61/61 [==============================] - ETA: 0s - loss: 3.4573\n",
            "Epoch 34: loss improved from 3.56876 to 3.45731, saving model to nextword1.h5\n",
            "61/61 [==============================] - 13s 216ms/step - loss: 3.4573 - lr: 0.0010\n",
            "Epoch 35/100\n",
            "61/61 [==============================] - ETA: 0s - loss: 3.3594\n",
            "Epoch 35: loss improved from 3.45731 to 3.35940, saving model to nextword1.h5\n",
            "61/61 [==============================] - 13s 216ms/step - loss: 3.3594 - lr: 0.0010\n",
            "Epoch 36/100\n",
            "61/61 [==============================] - ETA: 0s - loss: 3.2549\n",
            "Epoch 36: loss improved from 3.35940 to 3.25491, saving model to nextword1.h5\n",
            "61/61 [==============================] - 13s 215ms/step - loss: 3.2549 - lr: 0.0010\n",
            "Epoch 37/100\n",
            "61/61 [==============================] - ETA: 0s - loss: 3.1647\n",
            "Epoch 37: loss improved from 3.25491 to 3.16465, saving model to nextword1.h5\n",
            "61/61 [==============================] - 13s 215ms/step - loss: 3.1647 - lr: 0.0010\n",
            "Epoch 38/100\n",
            "61/61 [==============================] - ETA: 0s - loss: 3.0667\n",
            "Epoch 38: loss improved from 3.16465 to 3.06666, saving model to nextword1.h5\n",
            "61/61 [==============================] - 13s 217ms/step - loss: 3.0667 - lr: 0.0010\n",
            "Epoch 39/100\n",
            "61/61 [==============================] - ETA: 0s - loss: 2.9501\n",
            "Epoch 39: loss improved from 3.06666 to 2.95009, saving model to nextword1.h5\n",
            "61/61 [==============================] - 13s 217ms/step - loss: 2.9501 - lr: 0.0010\n",
            "Epoch 40/100\n",
            "61/61 [==============================] - ETA: 0s - loss: 2.8739\n",
            "Epoch 40: loss improved from 2.95009 to 2.87394, saving model to nextword1.h5\n",
            "61/61 [==============================] - 13s 219ms/step - loss: 2.8739 - lr: 0.0010\n",
            "Epoch 41/100\n",
            "61/61 [==============================] - ETA: 0s - loss: 2.8218\n",
            "Epoch 41: loss improved from 2.87394 to 2.82178, saving model to nextword1.h5\n",
            "61/61 [==============================] - 15s 248ms/step - loss: 2.8218 - lr: 0.0010\n",
            "Epoch 42/100\n",
            "61/61 [==============================] - ETA: 0s - loss: 2.7198\n",
            "Epoch 42: loss improved from 2.82178 to 2.71984, saving model to nextword1.h5\n",
            "61/61 [==============================] - 14s 221ms/step - loss: 2.7198 - lr: 0.0010\n",
            "Epoch 43/100\n",
            "61/61 [==============================] - ETA: 0s - loss: 2.6579\n",
            "Epoch 43: loss improved from 2.71984 to 2.65791, saving model to nextword1.h5\n",
            "61/61 [==============================] - 13s 219ms/step - loss: 2.6579 - lr: 0.0010\n",
            "Epoch 44/100\n",
            "61/61 [==============================] - ETA: 0s - loss: 2.6061\n",
            "Epoch 44: loss improved from 2.65791 to 2.60610, saving model to nextword1.h5\n",
            "61/61 [==============================] - 13s 220ms/step - loss: 2.6061 - lr: 0.0010\n",
            "Epoch 45/100\n",
            "61/61 [==============================] - ETA: 0s - loss: 2.5583\n",
            "Epoch 45: loss improved from 2.60610 to 2.55826, saving model to nextword1.h5\n",
            "61/61 [==============================] - 13s 220ms/step - loss: 2.5583 - lr: 0.0010\n",
            "Epoch 46/100\n",
            "61/61 [==============================] - ETA: 0s - loss: 2.5373\n",
            "Epoch 46: loss improved from 2.55826 to 2.53732, saving model to nextword1.h5\n",
            "61/61 [==============================] - 14s 223ms/step - loss: 2.5373 - lr: 0.0010\n",
            "Epoch 47/100\n",
            "61/61 [==============================] - ETA: 0s - loss: 2.4724\n",
            "Epoch 47: loss improved from 2.53732 to 2.47239, saving model to nextword1.h5\n",
            "61/61 [==============================] - 14s 223ms/step - loss: 2.4724 - lr: 0.0010\n",
            "Epoch 48/100\n",
            "61/61 [==============================] - ETA: 0s - loss: 2.4207\n",
            "Epoch 48: loss improved from 2.47239 to 2.42072, saving model to nextword1.h5\n",
            "61/61 [==============================] - 14s 222ms/step - loss: 2.4207 - lr: 0.0010\n",
            "Epoch 49/100\n",
            "61/61 [==============================] - ETA: 0s - loss: 2.3437\n",
            "Epoch 49: loss improved from 2.42072 to 2.34373, saving model to nextword1.h5\n",
            "61/61 [==============================] - 14s 222ms/step - loss: 2.3437 - lr: 0.0010\n",
            "Epoch 50/100\n",
            "61/61 [==============================] - ETA: 0s - loss: 2.2806\n",
            "Epoch 50: loss improved from 2.34373 to 2.28063, saving model to nextword1.h5\n",
            "61/61 [==============================] - 13s 218ms/step - loss: 2.2806 - lr: 0.0010\n",
            "Epoch 51/100\n",
            "61/61 [==============================] - ETA: 0s - loss: 2.2528\n",
            "Epoch 51: loss improved from 2.28063 to 2.25279, saving model to nextword1.h5\n",
            "61/61 [==============================] - 13s 217ms/step - loss: 2.2528 - lr: 0.0010\n",
            "Epoch 52/100\n",
            "61/61 [==============================] - ETA: 0s - loss: 2.2259\n",
            "Epoch 52: loss improved from 2.25279 to 2.22589, saving model to nextword1.h5\n",
            "61/61 [==============================] - 13s 218ms/step - loss: 2.2259 - lr: 0.0010\n",
            "Epoch 53/100\n",
            "61/61 [==============================] - ETA: 0s - loss: 2.1918\n",
            "Epoch 53: loss improved from 2.22589 to 2.19178, saving model to nextword1.h5\n",
            "61/61 [==============================] - 13s 218ms/step - loss: 2.1918 - lr: 0.0010\n",
            "Epoch 54/100\n",
            "61/61 [==============================] - ETA: 0s - loss: 2.1705\n",
            "Epoch 54: loss improved from 2.19178 to 2.17047, saving model to nextword1.h5\n",
            "61/61 [==============================] - 13s 219ms/step - loss: 2.1705 - lr: 0.0010\n",
            "Epoch 55/100\n",
            "61/61 [==============================] - ETA: 0s - loss: 2.1449\n",
            "Epoch 55: loss improved from 2.17047 to 2.14487, saving model to nextword1.h5\n",
            "61/61 [==============================] - 13s 220ms/step - loss: 2.1449 - lr: 0.0010\n",
            "Epoch 56/100\n",
            "61/61 [==============================] - ETA: 0s - loss: 2.1064\n",
            "Epoch 56: loss improved from 2.14487 to 2.10644, saving model to nextword1.h5\n",
            "61/61 [==============================] - 13s 217ms/step - loss: 2.1064 - lr: 0.0010\n",
            "Epoch 57/100\n",
            "61/61 [==============================] - ETA: 0s - loss: 2.0401\n",
            "Epoch 57: loss improved from 2.10644 to 2.04012, saving model to nextword1.h5\n",
            "61/61 [==============================] - 13s 218ms/step - loss: 2.0401 - lr: 0.0010\n",
            "Epoch 58/100\n",
            "61/61 [==============================] - ETA: 0s - loss: 1.9870\n",
            "Epoch 58: loss improved from 2.04012 to 1.98703, saving model to nextword1.h5\n",
            "61/61 [==============================] - 13s 217ms/step - loss: 1.9870 - lr: 0.0010\n",
            "Epoch 59/100\n",
            "61/61 [==============================] - ETA: 0s - loss: 1.9740\n",
            "Epoch 59: loss improved from 1.98703 to 1.97398, saving model to nextword1.h5\n",
            "61/61 [==============================] - 13s 217ms/step - loss: 1.9740 - lr: 0.0010\n",
            "Epoch 60/100\n",
            "61/61 [==============================] - ETA: 0s - loss: 1.9438\n",
            "Epoch 60: loss improved from 1.97398 to 1.94379, saving model to nextword1.h5\n",
            "61/61 [==============================] - 13s 218ms/step - loss: 1.9438 - lr: 0.0010\n",
            "Epoch 61/100\n",
            "61/61 [==============================] - ETA: 0s - loss: 1.9514\n",
            "Epoch 61: loss did not improve from 1.94379\n",
            "61/61 [==============================] - 13s 212ms/step - loss: 1.9514 - lr: 0.0010\n",
            "Epoch 62/100\n",
            "61/61 [==============================] - ETA: 0s - loss: 1.8993\n",
            "Epoch 62: loss improved from 1.94379 to 1.89932, saving model to nextword1.h5\n",
            "61/61 [==============================] - 13s 218ms/step - loss: 1.8993 - lr: 0.0010\n",
            "Epoch 63/100\n",
            "61/61 [==============================] - ETA: 0s - loss: 1.8871\n",
            "Epoch 63: loss improved from 1.89932 to 1.88708, saving model to nextword1.h5\n",
            "61/61 [==============================] - 13s 219ms/step - loss: 1.8871 - lr: 0.0010\n",
            "Epoch 64/100\n",
            "61/61 [==============================] - ETA: 0s - loss: 1.8720\n",
            "Epoch 64: loss improved from 1.88708 to 1.87198, saving model to nextword1.h5\n",
            "61/61 [==============================] - 13s 219ms/step - loss: 1.8720 - lr: 0.0010\n",
            "Epoch 65/100\n",
            "61/61 [==============================] - ETA: 0s - loss: 1.8593\n",
            "Epoch 65: loss improved from 1.87198 to 1.85928, saving model to nextword1.h5\n",
            "61/61 [==============================] - 13s 219ms/step - loss: 1.8593 - lr: 0.0010\n",
            "Epoch 66/100\n",
            "61/61 [==============================] - ETA: 0s - loss: 1.8315\n",
            "Epoch 66: loss improved from 1.85928 to 1.83152, saving model to nextword1.h5\n",
            "61/61 [==============================] - 13s 219ms/step - loss: 1.8315 - lr: 0.0010\n",
            "Epoch 67/100\n",
            "61/61 [==============================] - ETA: 0s - loss: 1.7909\n",
            "Epoch 67: loss improved from 1.83152 to 1.79088, saving model to nextword1.h5\n",
            "61/61 [==============================] - 13s 217ms/step - loss: 1.7909 - lr: 0.0010\n",
            "Epoch 68/100\n",
            "61/61 [==============================] - ETA: 0s - loss: 1.7571\n",
            "Epoch 68: loss improved from 1.79088 to 1.75713, saving model to nextword1.h5\n",
            "61/61 [==============================] - 13s 220ms/step - loss: 1.7571 - lr: 0.0010\n",
            "Epoch 69/100\n",
            "61/61 [==============================] - ETA: 0s - loss: 1.7397\n",
            "Epoch 69: loss improved from 1.75713 to 1.73973, saving model to nextword1.h5\n",
            "61/61 [==============================] - 13s 221ms/step - loss: 1.7397 - lr: 0.0010\n",
            "Epoch 70/100\n",
            "61/61 [==============================] - ETA: 0s - loss: 1.7350\n",
            "Epoch 70: loss improved from 1.73973 to 1.73496, saving model to nextword1.h5\n",
            "61/61 [==============================] - 13s 218ms/step - loss: 1.7350 - lr: 0.0010\n",
            "Epoch 71/100\n",
            "61/61 [==============================] - ETA: 0s - loss: 1.7276\n",
            "Epoch 71: loss improved from 1.73496 to 1.72763, saving model to nextword1.h5\n",
            "61/61 [==============================] - 13s 219ms/step - loss: 1.7276 - lr: 0.0010\n",
            "Epoch 72/100\n",
            "61/61 [==============================] - ETA: 0s - loss: 1.7307\n",
            "Epoch 72: loss did not improve from 1.72763\n",
            "61/61 [==============================] - 13s 212ms/step - loss: 1.7307 - lr: 0.0010\n",
            "Epoch 73/100\n",
            "61/61 [==============================] - ETA: 0s - loss: 1.7022\n",
            "Epoch 73: loss improved from 1.72763 to 1.70216, saving model to nextword1.h5\n",
            "61/61 [==============================] - 13s 220ms/step - loss: 1.7022 - lr: 0.0010\n",
            "Epoch 74/100\n",
            "61/61 [==============================] - ETA: 0s - loss: 1.6713\n",
            "Epoch 74: loss improved from 1.70216 to 1.67128, saving model to nextword1.h5\n",
            "61/61 [==============================] - 14s 221ms/step - loss: 1.6713 - lr: 0.0010\n",
            "Epoch 75/100\n",
            "61/61 [==============================] - ETA: 0s - loss: 1.6769\n",
            "Epoch 75: loss did not improve from 1.67128\n",
            "61/61 [==============================] - 13s 212ms/step - loss: 1.6769 - lr: 0.0010\n",
            "Epoch 76/100\n",
            "61/61 [==============================] - ETA: 0s - loss: 1.7028\n",
            "Epoch 76: loss did not improve from 1.67128\n",
            "61/61 [==============================] - 13s 213ms/step - loss: 1.7028 - lr: 0.0010\n",
            "Epoch 77/100\n",
            "61/61 [==============================] - ETA: 0s - loss: 1.6632\n",
            "Epoch 77: loss improved from 1.67128 to 1.66325, saving model to nextword1.h5\n",
            "61/61 [==============================] - 14s 222ms/step - loss: 1.6632 - lr: 0.0010\n",
            "Epoch 78/100\n",
            "61/61 [==============================] - ETA: 0s - loss: 1.6354\n",
            "Epoch 78: loss improved from 1.66325 to 1.63540, saving model to nextword1.h5\n",
            "61/61 [==============================] - 13s 219ms/step - loss: 1.6354 - lr: 0.0010\n",
            "Epoch 79/100\n",
            "61/61 [==============================] - ETA: 0s - loss: 1.6245\n",
            "Epoch 79: loss improved from 1.63540 to 1.62448, saving model to nextword1.h5\n",
            "61/61 [==============================] - 13s 219ms/step - loss: 1.6245 - lr: 0.0010\n",
            "Epoch 80/100\n",
            "61/61 [==============================] - ETA: 0s - loss: 1.5838\n",
            "Epoch 80: loss improved from 1.62448 to 1.58377, saving model to nextword1.h5\n",
            "61/61 [==============================] - 13s 219ms/step - loss: 1.5838 - lr: 0.0010\n",
            "Epoch 81/100\n",
            "61/61 [==============================] - ETA: 0s - loss: 1.5639\n",
            "Epoch 81: loss improved from 1.58377 to 1.56393, saving model to nextword1.h5\n",
            "61/61 [==============================] - 13s 220ms/step - loss: 1.5639 - lr: 0.0010\n",
            "Epoch 82/100\n",
            "61/61 [==============================] - ETA: 0s - loss: 1.5705\n",
            "Epoch 82: loss did not improve from 1.56393\n",
            "61/61 [==============================] - 13s 212ms/step - loss: 1.5705 - lr: 0.0010\n",
            "Epoch 83/100\n",
            "61/61 [==============================] - ETA: 0s - loss: 1.5249\n",
            "Epoch 83: loss improved from 1.56393 to 1.52488, saving model to nextword1.h5\n",
            "61/61 [==============================] - 13s 219ms/step - loss: 1.5249 - lr: 0.0010\n",
            "Epoch 84/100\n",
            "61/61 [==============================] - ETA: 0s - loss: 1.5083\n",
            "Epoch 84: loss improved from 1.52488 to 1.50827, saving model to nextword1.h5\n",
            "61/61 [==============================] - 13s 220ms/step - loss: 1.5083 - lr: 0.0010\n",
            "Epoch 85/100\n",
            "61/61 [==============================] - ETA: 0s - loss: 1.5000\n",
            "Epoch 85: loss improved from 1.50827 to 1.49998, saving model to nextword1.h5\n",
            "61/61 [==============================] - 13s 220ms/step - loss: 1.5000 - lr: 0.0010\n",
            "Epoch 86/100\n",
            "61/61 [==============================] - ETA: 0s - loss: 1.5055\n",
            "Epoch 86: loss did not improve from 1.49998\n",
            "61/61 [==============================] - 14s 229ms/step - loss: 1.5055 - lr: 0.0010\n",
            "Epoch 87/100\n",
            "61/61 [==============================] - ETA: 0s - loss: 1.4930\n",
            "Epoch 87: loss improved from 1.49998 to 1.49296, saving model to nextword1.h5\n",
            "61/61 [==============================] - 14s 224ms/step - loss: 1.4930 - lr: 0.0010\n",
            "Epoch 88/100\n",
            "61/61 [==============================] - ETA: 0s - loss: 1.5073\n",
            "Epoch 88: loss did not improve from 1.49296\n",
            "61/61 [==============================] - 13s 214ms/step - loss: 1.5073 - lr: 0.0010\n",
            "Epoch 89/100\n",
            "61/61 [==============================] - ETA: 0s - loss: 1.4712\n",
            "Epoch 89: loss improved from 1.49296 to 1.47125, saving model to nextword1.h5\n",
            "61/61 [==============================] - 14s 224ms/step - loss: 1.4712 - lr: 0.0010\n",
            "Epoch 90/100\n",
            "61/61 [==============================] - ETA: 0s - loss: 1.4623\n",
            "Epoch 90: loss improved from 1.47125 to 1.46235, saving model to nextword1.h5\n",
            "61/61 [==============================] - 14s 224ms/step - loss: 1.4623 - lr: 0.0010\n",
            "Epoch 91/100\n",
            "61/61 [==============================] - ETA: 0s - loss: 1.4589\n",
            "Epoch 91: loss improved from 1.46235 to 1.45887, saving model to nextword1.h5\n",
            "61/61 [==============================] - 14s 222ms/step - loss: 1.4589 - lr: 0.0010\n",
            "Epoch 92/100\n",
            "61/61 [==============================] - ETA: 0s - loss: 1.4631\n",
            "Epoch 92: loss did not improve from 1.45887\n",
            "61/61 [==============================] - 13s 213ms/step - loss: 1.4631 - lr: 0.0010\n",
            "Epoch 93/100\n",
            "61/61 [==============================] - ETA: 0s - loss: 1.4540\n",
            "Epoch 93: loss improved from 1.45887 to 1.45405, saving model to nextword1.h5\n",
            "61/61 [==============================] - 14s 221ms/step - loss: 1.4540 - lr: 0.0010\n",
            "Epoch 94/100\n",
            "61/61 [==============================] - ETA: 0s - loss: 1.4137\n",
            "Epoch 94: loss improved from 1.45405 to 1.41374, saving model to nextword1.h5\n",
            "61/61 [==============================] - 14s 222ms/step - loss: 1.4137 - lr: 0.0010\n",
            "Epoch 95/100\n",
            "61/61 [==============================] - ETA: 0s - loss: 1.4035\n",
            "Epoch 95: loss improved from 1.41374 to 1.40355, saving model to nextword1.h5\n",
            "61/61 [==============================] - 14s 222ms/step - loss: 1.4035 - lr: 0.0010\n",
            "Epoch 96/100\n",
            "61/61 [==============================] - ETA: 0s - loss: 1.3926\n",
            "Epoch 96: loss improved from 1.40355 to 1.39263, saving model to nextword1.h5\n",
            "61/61 [==============================] - 14s 225ms/step - loss: 1.3926 - lr: 0.0010\n",
            "Epoch 97/100\n",
            "61/61 [==============================] - ETA: 0s - loss: 1.4064\n",
            "Epoch 97: loss did not improve from 1.39263\n",
            "61/61 [==============================] - 13s 216ms/step - loss: 1.4064 - lr: 0.0010\n",
            "Epoch 98/100\n",
            "61/61 [==============================] - ETA: 0s - loss: 1.3910\n",
            "Epoch 98: loss improved from 1.39263 to 1.39097, saving model to nextword1.h5\n",
            "61/61 [==============================] - 14s 223ms/step - loss: 1.3910 - lr: 0.0010\n",
            "Epoch 99/100\n",
            "61/61 [==============================] - ETA: 0s - loss: 1.3722\n",
            "Epoch 99: loss improved from 1.39097 to 1.37219, saving model to nextword1.h5\n",
            "61/61 [==============================] - 14s 222ms/step - loss: 1.3722 - lr: 0.0010\n",
            "Epoch 100/100\n",
            "61/61 [==============================] - ETA: 0s - loss: 1.3578\n",
            "Epoch 100: loss improved from 1.37219 to 1.35782, saving model to nextword1.h5\n",
            "61/61 [==============================] - 13s 220ms/step - loss: 1.3578 - lr: 0.0010\n"
          ]
        },
        {
          "output_type": "execute_result",
          "data": {
            "text/plain": [
              "<keras.callbacks.History at 0x7f0f5793bf90>"
            ]
          },
          "metadata": {},
          "execution_count": 17
        }
      ],
      "source": [
        "model.fit(X, y, epochs=100, batch_size=64, callbacks=[checkpoint, reduce, tensorboard_Visualization])"
      ]
    },
    {
      "cell_type": "code",
      "source": [
        "# Importing the Libraries\n",
        "\n",
        "from tensorflow.keras.models import load_model\n",
        "import numpy as np\n",
        "import pickle\n",
        "\n",
        "# Load the model and tokenizer\n",
        "\n",
        "model = load_model('nextword1.h5')\n",
        "tokenizer = pickle.load(open('tokenizer1.pkl', 'rb'))\n",
        "\n",
        "def Predict_Next_Words(model, tokenizer, text):\n",
        "    for i in range(3):\n",
        "        sequence = tokenizer.texts_to_sequences([text])[0]\n",
        "        sequence = np.array(sequence)\n",
        "        \n",
        "        #preds = model.predict_classes(sequence)\n",
        "        preds=model.predict(sequence)\n",
        "        preds = np.argmax(preds)\n",
        "        print(preds)\n",
        "        predicted_word = \"\"\n",
        "        \n",
        "        for key, value in tokenizer.word_index.items():\n",
        "          #value == preds\n",
        "          if (value == preds).all():\n",
        "            predicted_word = key\n",
        "            break\n",
        "        \n",
        "        print(predicted_word)\n",
        "        return predicted_word"
      ],
      "metadata": {
        "id": "mBUdvVM-Ql2y"
      },
      "execution_count": null,
      "outputs": []
    },
    {
      "cell_type": "code",
      "source": [
        "\n",
        "# text1 = \"at the dull\"\n",
        "# text2 = \"collection of textile\"\n",
        "# text3 = \"what a strenuous\"\n",
        "# text4 = \"stop the script\"\n",
        "\n",
        "while(True):\n",
        "\n",
        "    text = input(\"Enter the string:\")\n",
        "    if text == \"stop the script\":\n",
        "        print(\"Ending The Program.....\")\n",
        "        break\n",
        "    else:\n",
        "        try:\n",
        "            text = text.split(\" \")\n",
        "            text = text[-1]\n",
        "            text = ''.join(text)\n",
        "            prediction = Predict_Next_Words(model, tokenizer, text)\n",
        "            print(prediction)\n",
        "            \n",
        "        except:\n",
        "            continue"
      ],
      "metadata": {
        "colab": {
          "base_uri": "https://localhost:8080/"
        },
        "id": "2METpU0SkqiQ",
        "outputId": "d409a6c1-f334-4626-9370-935c0e79ec08"
      },
      "execution_count": null,
      "outputs": [
        {
          "output_type": "stream",
          "name": "stdout",
          "text": [
            "Enter the string:at the dull\n",
            "320\n",
            "weather\n",
            "........\n",
            "weather\n"
          ]
        }
      ]
    },
    {
      "cell_type": "code",
      "source": [],
      "metadata": {
        "id": "hy19az0rwsJy"
      },
      "execution_count": null,
      "outputs": []
    }
  ],
  "metadata": {
    "kernelspec": {
      "display_name": "Python 3",
      "language": "python",
      "name": "python3"
    },
    "language_info": {
      "codemirror_mode": {
        "name": "ipython",
        "version": 3
      },
      "file_extension": ".py",
      "mimetype": "text/x-python",
      "name": "python",
      "nbconvert_exporter": "python",
      "pygments_lexer": "ipython3",
      "version": "3.7.7"
    },
    "colab": {
      "provenance": []
    }
  },
  "nbformat": 4,
  "nbformat_minor": 0
}